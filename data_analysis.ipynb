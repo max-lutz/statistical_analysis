{
 "cells": [
  {
   "cell_type": "code",
   "execution_count": 1,
   "id": "59627e28",
   "metadata": {},
   "outputs": [],
   "source": [
    "import pandas as pd"
   ]
  },
  {
   "cell_type": "code",
   "execution_count": 23,
   "id": "5ee0512b",
   "metadata": {},
   "outputs": [],
   "source": [
    "def read_data(file_path):\n",
    "    babies_data = []\n",
    "    with open(file_path) as file:\n",
    "        for line in file:\n",
    "            babies_data.append(line.split())\n",
    "\n",
    "    return pd.DataFrame(babies_data)"
   ]
  },
  {
   "cell_type": "code",
   "execution_count": 24,
   "id": "653ec82a",
   "metadata": {},
   "outputs": [],
   "source": [
    "df = read_data('data/babies23.data')"
   ]
  },
  {
   "cell_type": "code",
   "execution_count": 25,
   "id": "c6b5debf",
   "metadata": {},
   "outputs": [
    {
     "name": "stdout",
     "output_type": "stream",
     "text": [
      "<class 'pandas.core.frame.DataFrame'>\n",
      "RangeIndex: 1237 entries, 0 to 1236\n",
      "Data columns (total 23 columns):\n",
      " #   Column  Non-Null Count  Dtype \n",
      "---  ------  --------------  ----- \n",
      " 0   0       1237 non-null   object\n",
      " 1   1       1237 non-null   object\n",
      " 2   2       1237 non-null   object\n",
      " 3   3       1237 non-null   object\n",
      " 4   4       1237 non-null   object\n",
      " 5   5       1237 non-null   object\n",
      " 6   6       1237 non-null   object\n",
      " 7   7       1237 non-null   object\n",
      " 8   8       1237 non-null   object\n",
      " 9   9       1237 non-null   object\n",
      " 10  10      1237 non-null   object\n",
      " 11  11      1237 non-null   object\n",
      " 12  12      1237 non-null   object\n",
      " 13  13      1237 non-null   object\n",
      " 14  14      1237 non-null   object\n",
      " 15  15      1237 non-null   object\n",
      " 16  16      1237 non-null   object\n",
      " 17  17      1237 non-null   object\n",
      " 18  18      1237 non-null   object\n",
      " 19  19      1237 non-null   object\n",
      " 20  20      1237 non-null   object\n",
      " 21  21      1237 non-null   object\n",
      " 22  22      1237 non-null   object\n",
      "dtypes: object(23)\n",
      "memory usage: 222.4+ KB\n"
     ]
    }
   ],
   "source": [
    "df.info()"
   ]
  },
  {
   "cell_type": "code",
   "execution_count": null,
   "id": "ddadb83b",
   "metadata": {},
   "outputs": [],
   "source": []
  },
  {
   "cell_type": "code",
   "execution_count": null,
   "id": "b5f3eef6",
   "metadata": {},
   "outputs": [],
   "source": []
  }
 ],
 "metadata": {
  "kernelspec": {
   "display_name": "Python 3",
   "language": "python",
   "name": "python3"
  },
  "language_info": {
   "codemirror_mode": {
    "name": "ipython",
    "version": 3
   },
   "file_extension": ".py",
   "mimetype": "text/x-python",
   "name": "python",
   "nbconvert_exporter": "python",
   "pygments_lexer": "ipython3",
   "version": "3.9.17"
  }
 },
 "nbformat": 4,
 "nbformat_minor": 5
}
